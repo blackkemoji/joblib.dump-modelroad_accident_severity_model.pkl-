{
 "cells": [
  {
   "cell_type": "code",
   "execution_count": 3,
   "id": "c451af0b-dda4-490c-b676-08f6721dd731",
   "metadata": {},
   "outputs": [
    {
     "data": {
      "text/html": [
       "<div>\n",
       "<style scoped>\n",
       "    .dataframe tbody tr th:only-of-type {\n",
       "        vertical-align: middle;\n",
       "    }\n",
       "\n",
       "    .dataframe tbody tr th {\n",
       "        vertical-align: top;\n",
       "    }\n",
       "\n",
       "    .dataframe thead th {\n",
       "        text-align: right;\n",
       "    }\n",
       "</style>\n",
       "<table border=\"1\" class=\"dataframe\">\n",
       "  <thead>\n",
       "    <tr style=\"text-align: right;\">\n",
       "      <th></th>\n",
       "      <th>Weather</th>\n",
       "      <th>Road Condition</th>\n",
       "      <th>Traffic Volume</th>\n",
       "      <th>Driver Age</th>\n",
       "      <th>Vehicle Age</th>\n",
       "      <th>Speed</th>\n",
       "      <th>Time of Day</th>\n",
       "      <th>Accident Severity</th>\n",
       "    </tr>\n",
       "  </thead>\n",
       "  <tbody>\n",
       "    <tr>\n",
       "      <th>0</th>\n",
       "      <td>Foggy</td>\n",
       "      <td>Wet</td>\n",
       "      <td>39</td>\n",
       "      <td>59</td>\n",
       "      <td>17</td>\n",
       "      <td>103</td>\n",
       "      <td>Night</td>\n",
       "      <td>3</td>\n",
       "    </tr>\n",
       "    <tr>\n",
       "      <th>1</th>\n",
       "      <td>Snowy</td>\n",
       "      <td>Dry</td>\n",
       "      <td>55</td>\n",
       "      <td>57</td>\n",
       "      <td>10</td>\n",
       "      <td>98</td>\n",
       "      <td>Night</td>\n",
       "      <td>3</td>\n",
       "    </tr>\n",
       "    <tr>\n",
       "      <th>2</th>\n",
       "      <td>Rainy</td>\n",
       "      <td>Icy</td>\n",
       "      <td>96</td>\n",
       "      <td>59</td>\n",
       "      <td>18</td>\n",
       "      <td>98</td>\n",
       "      <td>Night</td>\n",
       "      <td>1</td>\n",
       "    </tr>\n",
       "    <tr>\n",
       "      <th>3</th>\n",
       "      <td>Snowy</td>\n",
       "      <td>Dry</td>\n",
       "      <td>89</td>\n",
       "      <td>24</td>\n",
       "      <td>4</td>\n",
       "      <td>86</td>\n",
       "      <td>Day</td>\n",
       "      <td>3</td>\n",
       "    </tr>\n",
       "    <tr>\n",
       "      <th>4</th>\n",
       "      <td>Rainy</td>\n",
       "      <td>Dry</td>\n",
       "      <td>89</td>\n",
       "      <td>30</td>\n",
       "      <td>8</td>\n",
       "      <td>117</td>\n",
       "      <td>Night</td>\n",
       "      <td>3</td>\n",
       "    </tr>\n",
       "    <tr>\n",
       "      <th>5</th>\n",
       "      <td>Rainy</td>\n",
       "      <td>Icy</td>\n",
       "      <td>85</td>\n",
       "      <td>27</td>\n",
       "      <td>5</td>\n",
       "      <td>75</td>\n",
       "      <td>Day</td>\n",
       "      <td>1</td>\n",
       "    </tr>\n",
       "    <tr>\n",
       "      <th>6</th>\n",
       "      <td>Rainy</td>\n",
       "      <td>Wet</td>\n",
       "      <td>61</td>\n",
       "      <td>55</td>\n",
       "      <td>5</td>\n",
       "      <td>66</td>\n",
       "      <td>Day</td>\n",
       "      <td>2</td>\n",
       "    </tr>\n",
       "    <tr>\n",
       "      <th>7</th>\n",
       "      <td>Snowy</td>\n",
       "      <td>Icy</td>\n",
       "      <td>82</td>\n",
       "      <td>58</td>\n",
       "      <td>7</td>\n",
       "      <td>82</td>\n",
       "      <td>Night</td>\n",
       "      <td>3</td>\n",
       "    </tr>\n",
       "    <tr>\n",
       "      <th>8</th>\n",
       "      <td>Rainy</td>\n",
       "      <td>Wet</td>\n",
       "      <td>80</td>\n",
       "      <td>68</td>\n",
       "      <td>17</td>\n",
       "      <td>71</td>\n",
       "      <td>Night</td>\n",
       "      <td>1</td>\n",
       "    </tr>\n",
       "    <tr>\n",
       "      <th>9</th>\n",
       "      <td>Rainy</td>\n",
       "      <td>Dry</td>\n",
       "      <td>80</td>\n",
       "      <td>22</td>\n",
       "      <td>10</td>\n",
       "      <td>57</td>\n",
       "      <td>Night</td>\n",
       "      <td>1</td>\n",
       "    </tr>\n",
       "  </tbody>\n",
       "</table>\n",
       "</div>"
      ],
      "text/plain": [
       "  Weather Road Condition  Traffic Volume  Driver Age  Vehicle Age  Speed  \\\n",
       "0   Foggy            Wet              39          59           17    103   \n",
       "1   Snowy            Dry              55          57           10     98   \n",
       "2   Rainy            Icy              96          59           18     98   \n",
       "3   Snowy            Dry              89          24            4     86   \n",
       "4   Rainy            Dry              89          30            8    117   \n",
       "5   Rainy            Icy              85          27            5     75   \n",
       "6   Rainy            Wet              61          55            5     66   \n",
       "7   Snowy            Icy              82          58            7     82   \n",
       "8   Rainy            Wet              80          68           17     71   \n",
       "9   Rainy            Dry              80          22           10     57   \n",
       "\n",
       "  Time of Day  Accident Severity  \n",
       "0       Night                  3  \n",
       "1       Night                  3  \n",
       "2       Night                  1  \n",
       "3         Day                  3  \n",
       "4       Night                  3  \n",
       "5         Day                  1  \n",
       "6         Day                  2  \n",
       "7       Night                  3  \n",
       "8       Night                  1  \n",
       "9       Night                  1  "
      ]
     },
     "execution_count": 3,
     "metadata": {},
     "output_type": "execute_result"
    }
   ],
   "source": [
    "import pandas as pd\n",
    "df=pd.read_csv(r'road_accidents.csv')\n",
    "df.head(10)"
   ]
  },
  {
   "cell_type": "code",
   "execution_count": 4,
   "id": "b4e27ece-ee01-4acc-8957-ca34f794bf28",
   "metadata": {},
   "outputs": [
    {
     "name": "stdout",
     "output_type": "stream",
     "text": [
      "Mean Squared Error: 0.7619222795919657\n"
     ]
    },
    {
     "data": {
      "text/plain": [
       "['road_accident_severity_model.pkl']"
      ]
     },
     "execution_count": 4,
     "metadata": {},
     "output_type": "execute_result"
    }
   ],
   "source": [
    "import pandas as pd\n",
    "from sklearn.model_selection import train_test_split\n",
    "from sklearn.linear_model import LinearRegression\n",
    "from sklearn.metrics import mean_squared_error\n",
    "import joblib\n",
    "df = pd.read_csv('road_accidents.csv')\n",
    "\n",
    "df = pd.get_dummies(df, columns=['Weather', 'Road Condition', 'Time of Day'], drop_first=True)\n",
    "\n",
    "X = df.drop('Accident Severity', axis=1) \n",
    "\n",
    "y = df['Accident Severity']\n",
    "\n",
    "X_train, X_test, y_train, y_test = train_test_split(X, y, test_size=0.2, random_state=42)\n",
    "\n",
    "model = LinearRegression()\n",
    "\n",
    "model.fit(X_train, y_train)\n",
    "\n",
    "y_pred = model.predict(X_test)\n",
    "\n",
    "mse = mean_squared_error(y_test, y_pred)\n",
    "print(f'Mean Squared Error: {mse}')\n",
    "\n",
    "joblib.dump(model, 'road_accident_severity_model.pkl')\n"
   ]
  },
  {
   "cell_type": "code",
   "execution_count": 5,
   "id": "f9da4f48-15e9-4212-b9bc-005938ca32b0",
   "metadata": {},
   "outputs": [
    {
     "data": {
      "text/plain": [
       "['C:/Users/Erick Mwangi/Documents/road_accident_severity_model.pkl']"
      ]
     },
     "execution_count": 5,
     "metadata": {},
     "output_type": "execute_result"
    }
   ],
   "source": [
    "joblib.dump(model, 'C:/Users/Erick Mwangi/Documents/road_accident_severity_model.pkl')\n"
   ]
  },
  {
   "cell_type": "code",
   "execution_count": 9,
   "id": "bae9d1ab-8114-404d-8617-edf64f77af31",
   "metadata": {},
   "outputs": [
    {
     "name": "stdout",
     "output_type": "stream",
     "text": [
      "Predicted Accident Severity: 1.7522301391729245\n"
     ]
    }
   ],
   "source": [
    "import pandas as pd\n",
    "import joblib\n",
    "model = joblib.load('C:/Users/Erick Mwangi/Documents/road_accident_severity_model.pkl')\n",
    "new_data = pd.DataFrame({\n",
    "    'Traffic Volume': [85],\n",
    "    'Driver Age': [45],\n",
    "    'Vehicle Age': [10],\n",
    "    'Speed': [90],\n",
    "    'Weather_Rainy': [1], \n",
    "    'Weather_Snowy': [0],\n",
    "    'Weather_Sunny': [0],\n",
    "    'Road Condition_Icy': [0], \n",
    "    'Road Condition_Wet': [1],\n",
    "    'Time of Day_Night': [1] })\n",
    "\n",
    "predicted_severity = model.predict(new_data)\n",
    "print(f'Predicted Accident Severity: {predicted_severity[0]}')\n"
   ]
  },
  {
   "cell_type": "code",
   "execution_count": null,
   "id": "bff84b70-5433-419d-8dfe-4c145b613be8",
   "metadata": {},
   "outputs": [],
   "source": []
  }
 ],
 "metadata": {
  "kernelspec": {
   "display_name": "Python 3 (ipykernel)",
   "language": "python",
   "name": "python3"
  },
  "language_info": {
   "codemirror_mode": {
    "name": "ipython",
    "version": 3
   },
   "file_extension": ".py",
   "mimetype": "text/x-python",
   "name": "python",
   "nbconvert_exporter": "python",
   "pygments_lexer": "ipython3",
   "version": "3.11.7"
  }
 },
 "nbformat": 4,
 "nbformat_minor": 5
}
